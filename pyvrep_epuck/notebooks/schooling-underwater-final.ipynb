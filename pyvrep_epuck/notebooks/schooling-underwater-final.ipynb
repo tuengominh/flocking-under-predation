{
 "cells": [
  {
   "cell_type": "markdown",
   "metadata": {},
   "source": [
    "# Schooling under Predation\n",
    "\n",
    "#### TUE NGO - AARUSHI SHARMA - MARIO TSAVALOS\n",
    "\n",
    "System Design, Integration & Control - Reactive Behaviors"
   ]
  },
  {
   "cell_type": "markdown",
   "metadata": {},
   "source": [
    "![title](./cover.jpg)"
   ]
  },
  {
   "cell_type": "markdown",
   "metadata": {},
   "source": [
    "# I - Introduction"
   ]
  },
  {
   "cell_type": "markdown",
   "metadata": {},
   "source": [
    "In the natural world, animals exhibit collective behaviors by traveling in groups in a coordinated manner. This phenomenon occurs at both microscopic scales (bacteria) and macroscopic scales (vertebrates). It is called ***schooling*** in the case of fish, ***flocking*** in the case of birds, and ***herding*** in the case of grazing mammals. Any group of fish that stay together and swim in the same direction is schooling. \n",
    "\n",
    "Schooling helps fish to defend against predators and enhance foraging success. Using computers, those schooling behaviors of fish can be simulated by creating simple rules and combining them. This is known as emergent behavior and can be used to simulate representational group movements. We chose to simulate the behaviors of a school of mackerels under the predation of a shark."
   ]
  },
  {
   "cell_type": "markdown",
   "metadata": {},
   "source": [
    "# II - State of the art"
   ]
  },
  {
   "cell_type": "markdown",
   "metadata": {},
   "source": [
    "The simulation and modeling of group traveling have been investigated by many previous studies. This flock motion seems simple and yet is visually complex. In his infamous work **“Flocks, Herds, and Schools: A Distributed Behavioral Model”**, Craig W. Reynolds explores flock movement as the aggregate result of the actions of individual animals, each acting exclusively based on the basis of its own local perception of the world. \n",
    "\n",
    "Reynolds developed a computational model of bird flocks and fish schools in this regard. In this model, agents (boids) form groups even though they do not have a group identity or even a concept of what a group is. The basic flocking model comprises three steering behaviors that explain how individual maneuvers based on the location and velocity of its neighbors: \n",
    "\n",
    "> ***1. Separation***: avoid collision amongst mates of the same group\n",
    "\n",
    "> ***2. Alignment***: steer towards the average heading of local mates \n",
    "\n",
    "> ***3. Cohesion***: steer towards the centroid of local mates to stay within the group\n",
    "    \n",
    "More information: https://www.red3d.com/cwr/boids/."
   ]
  },
  {
   "cell_type": "markdown",
   "metadata": {},
   "source": [
    "![title](./boids.png)"
   ]
  },
  {
   "cell_type": "markdown",
   "metadata": {},
   "source": [
    "In this project, we focus on the behaviors of an individual mackerel as reactive responses to the presence of other mackerels or a predator (shark). We took inspiration from these Reynolds rules to implement the schooling behaviors. However, our schooling behaviors cannot be directly implemented following the exact algorithms of Reynolds' boids, given the constraints imposed by local sensing and reactive behaviors. Generating the schooling behaviors without requiring the agent's understanding of a global state of the scene is the main challenge that adds value to our project. "
   ]
  },
  {
   "cell_type": "markdown",
   "metadata": {},
   "source": [
    "# III - Robotic simulation"
   ]
  },
  {
   "cell_type": "markdown",
   "metadata": {},
   "source": [
    "The V-REP scene has been adapted to the underwater environment through different blue tones and textures. The water texture was provided by CoppeliaSim, whereas the textures of the \"corals\" are textures loaded from the web. They were dragged onto the surface of the existing tree objects. CoppeliaSim does not offer many possibilities to simulate different environments that include a variety of underwater objects. The \"corals\" and the \"cups\" were placed in this way in order to provide a free area and also to provide collision objects that the robots have to avoid."
   ]
  },
  {
   "cell_type": "markdown",
   "metadata": {},
   "source": [
    "![title](./scene-1.png)"
   ]
  },
  {
   "cell_type": "markdown",
   "metadata": {},
   "source": [
    "*Our V-REP scene with 3 epucks on the top-left corner as 3 mackerels and the shark locates on the bottom-right corner.*"
   ]
  },
  {
   "cell_type": "markdown",
   "metadata": {},
   "source": [
    "## 1 - Initialize session"
   ]
  },
  {
   "cell_type": "code",
   "execution_count": 1,
   "metadata": {},
   "outputs": [],
   "source": [
    "from simulator_interface import open_session, close_session\n",
    "simulator, prey1, prey2, prey3, predator = open_session(n_epucks=4)\n"
   ]
  },
  {
   "cell_type": "code",
   "execution_count": 2,
   "metadata": {},
   "outputs": [],
   "source": [
    "# make sure to detach all behaviors and make all the robots stop\n",
    "for e in simulator.robots:\n",
    "    e.detach_all_behaviors()\n",
    "    e.stop()\n",
    "    "
   ]
  },
  {
   "cell_type": "code",
   "execution_count": null,
   "metadata": {},
   "outputs": [],
   "source": [
    "# in case something goes wrong\n",
    "close_session(simulator)\n"
   ]
  },
  {
   "cell_type": "markdown",
   "metadata": {},
   "source": [
    "## 2 - Define species, motor constraints and internal needs"
   ]
  },
  {
   "cell_type": "code",
   "execution_count": 3,
   "metadata": {},
   "outputs": [],
   "source": [
    "predator.species = \"shark\"\n",
    "prey1.species = \"mackerel\"\n",
    "prey2.species = \"mackerel\"\n",
    "prey3.species = \"mackerel\"\n"
   ]
  },
  {
   "cell_type": "markdown",
   "metadata": {},
   "source": [
    "### Constraints on motor skills"
   ]
  },
  {
   "cell_type": "markdown",
   "metadata": {},
   "source": [
    "We would like to apply different motor constraints to different species. This helps us to easily distinguish a shark and a mackerel (they are all epucks in the V-REP scene), and also reflects reality in nature."
   ]
  },
  {
   "cell_type": "code",
   "execution_count": 4,
   "metadata": {},
   "outputs": [],
   "source": [
    "predator.max_speed = 15.0\n",
    "prey1.max_speed = 10.0\n",
    "prey2.max_speed = 10.0\n",
    "prey3.max_speed = 10.0\n"
   ]
  },
  {
   "cell_type": "markdown",
   "metadata": {},
   "source": [
    "### Variables for internal needs"
   ]
  },
  {
   "cell_type": "markdown",
   "metadata": {},
   "source": [
    "We would like to specify the weight of each behavior while there are multiple behaviors running in parallel on the same robot, i.e. how much it will count in the averaging. This weighting can activate a behavior according to some internal drives of the robot, i.e. the animal will choose to satiate the need with higher intensity (urgency). For instance, a mackerel might split apart from the shoal mates if it's terribly hungry; but if it's just slightly hungry, it will prioritize staying within the group. The animal then evaluates the importance of needs based on a ranking system to represent the trade-offs when there are multiple needs with equal intensities: if the needs for collaboration and food are equivalent, the need with a higher importance level should be satisfied first.\n",
    "\n",
    "The relationship between behavior weighting, internal needs and the relative importance of needs can be simplified as this equation:\n",
    "\n",
    "> ***Weight of behavior = Intensity of need - Importance discount***\n"
   ]
  },
  {
   "cell_type": "markdown",
   "metadata": {},
   "source": [
    "To do so, first we need to define the basic needs of both mackerels and sharks:"
   ]
  },
  {
   "cell_type": "code",
   "execution_count": 5,
   "metadata": {},
   "outputs": [],
   "source": [
    "# the need to stay close to shoal mates\n",
    "# regulate schooling behaviors\n",
    "\n",
    "prey1.collaboration_need = 0.5\n",
    "prey2.collaboration_need = 0.5\n",
    "prey3.collaboration_need = 0.5\n",
    "\n",
    "# cohesion threshold - a proximity value smaller than this means the shoal mate is too far away\n",
    "th_c_min = 0.4\n",
    "# separation threshold - a proximity value bigger than this means the shoal mate is too close\n",
    "th_c_max = 0.6\n"
   ]
  },
  {
   "cell_type": "code",
   "execution_count": 6,
   "metadata": {},
   "outputs": [],
   "source": [
    "# the need to run away from predator\n",
    "# regulate escaping behaviors\n",
    "\n",
    "prey1.security_need = 0.5\n",
    "prey2.security_need = 0.5\n",
    "prey3.security_need = 0.5\n"
   ]
  },
  {
   "cell_type": "code",
   "execution_count": 7,
   "metadata": {},
   "outputs": [],
   "source": [
    "# regulate foraging behaviors: low energy level increases the need to catch food\n",
    "predator.energy_level = 0.5\n",
    "prey1.energy_level = 0.5\n",
    "prey2.energy_level = 0.5\n",
    "prey3.energy_level = 0.5\n",
    "\n",
    "# predator has higher metabolic rate\n",
    "predator.energy_increase = 0.2\n",
    "predator.energy_decay = 0.02\n",
    "\n",
    "# preys have lower metabolic rate\n",
    "prey1.energy_increase = 0.1\n",
    "prey1.energy_decay = 0.01\n",
    "prey2.energy_increase = 0.1\n",
    "prey2.energy_decay = 0.01\n",
    "prey3.energy_increase = 0.1\n",
    "prey3.energy_decay = 0.01\n"
   ]
  },
  {
   "cell_type": "markdown",
   "metadata": {},
   "source": [
    "### Ranking system of needs"
   ]
  },
  {
   "cell_type": "markdown",
   "metadata": {},
   "source": [
    "The animal evaluates the importance of a certain need based on an internal ranking system. Internal needs with lower importance level would only be considered if those with higher importance level are fulfilled. In the context of this project, we prioritize schooling over foraging and anti-predation over schooling. In reality, it could be different. \n",
    "\n",
    "The predator is only affected by its hunger, thus, there is no ranking system for it."
   ]
  },
  {
   "cell_type": "code",
   "execution_count": 8,
   "metadata": {},
   "outputs": [],
   "source": [
    "# we use discount values to indicate importance level which will be subtracted from the intensity of need\n",
    "# the higher the importance, the lower the deduction value\n",
    "\n",
    "# first priority\n",
    "prey1.security_discount = 0.01\n",
    "prey2.security_discount = 0.01\n",
    "prey3.security_discount = 0.01\n",
    "\n",
    "# second priority\n",
    "prey1.collaboration_discount = 0.02\n",
    "prey2.collaboration_discount = 0.02\n",
    "prey3.collaboration_discount = 0.02\n",
    "\n",
    "# third priority\n",
    "prey1.foraging_discount = 0.03\n",
    "prey2.foraging_discount = 0.03\n",
    "prey3.foraging_discount = 0.03\n"
   ]
  },
  {
   "cell_type": "markdown",
   "metadata": {},
   "source": [
    "## 3 - Define routines to track internal drives"
   ]
  },
  {
   "cell_type": "markdown",
   "metadata": {},
   "source": [
    "These routines - which we call ***drives*** - helps the robot keep track of its internal needs and calculate the intensity of them. We adjust the intensity of need based on the fluctuations of threat intensity caused by external stimuli. In some cases, the animal will act in order to keep this value as low as possible. In other cases, the animal will try to keep this value within a desired, predefined range."
   ]
  },
  {
   "cell_type": "code",
   "execution_count": 9,
   "metadata": {},
   "outputs": [],
   "source": [
    "# affected by the presence of shoal mates \n",
    "# adjusting collaboration need \n",
    "\n",
    "def schooling_drive(robot): \n",
    "    (left, right), (epuck_left, epuck_right) = robot.prox_activations(tracked_objects=[\"ePuck\"], return_epucks=True)\n",
    "    left_species, right_species = robot.sensed_epuck_attributes(epuck_left, epuck_right, \"species\", default_value =\"none\")\n",
    "    \n",
    "    # process the appropriate input\n",
    "    if left_species != \"mackerel\":\n",
    "        left = 0\n",
    "    if right_species != \"mackerel\":\n",
    "        right = 0\n",
    "    \n",
    "    # ensure distance to shoal mates to be within a range between cohesion and separation thresholds\n",
    "    if left <= th_c_min: # the shoal mate is too far away\n",
    "        robot.collaboration_need += abs(robot.collaboration_need - left) # increase the need\n",
    "    if right <= th_c_min: # the shoal mate is too far away\n",
    "        robot.collaboration_need += abs(robot.collaboration_need - right) # increase the need\n",
    "    if left >= th_c_max: # the shoal mate is too close \n",
    "        robot.collaboration_need -= abs(robot.collaboration_need - left) # decrease the need\n",
    "    if right >= th_c_max: # the shoal mate is too close\n",
    "        robot.collaboration_need -= abs(robot.collaboration_need - right) # decrease the need\n",
    "\n",
    "    robot.collaboration_need = min(1., max(robot.collaboration_need, 0.))\n",
    "    "
   ]
  },
  {
   "cell_type": "code",
   "execution_count": 10,
   "metadata": {},
   "outputs": [],
   "source": [
    "# affected by the presence of the predator \n",
    "# adjusting security need\n",
    "\n",
    "def security_drive(robot): \n",
    "    (left, right), (epuck_left, epuck_right) = robot.prox_activations(tracked_objects=[\"ePuck\"], return_epucks=True)\n",
    "    left_species, right_species = robot.sensed_epuck_attributes(epuck_left, epuck_right, \"species\", default_value =\"none\")\n",
    "    \n",
    "    # process the appropriate input\n",
    "    if left_species != \"shark\":\n",
    "        left = 0\n",
    "    if right_species != \"shark\":\n",
    "        right = 0\n",
    "    \n",
    "    # ensure the predator to be as far as possible\n",
    "    robot.security_need = left + right \n",
    "    \n",
    "    robot.security_need = min(1., max(robot.security_need, 0.))\n",
    "    "
   ]
  },
  {
   "cell_type": "code",
   "execution_count": 11,
   "metadata": {},
   "outputs": [],
   "source": [
    "# affected by sphere consumption \n",
    "# adjusting energy level\n",
    "# for both prey and predator\n",
    "\n",
    "def foraging_drive(robot): \n",
    "    if robot.has_eaten(): # ensure the energy level to be as high as possible\n",
    "        robot.energy_level += robot.energy_increase\n",
    "    else:\n",
    "        robot.energy_level -= robot.energy_decay  \n",
    "         \n",
    "    robot.energy_level = min(1., max(robot.energy_level, 0.))\n",
    "    "
   ]
  },
  {
   "cell_type": "markdown",
   "metadata": {},
   "source": [
    "## 4 - Reynolds-like schooling behaviors"
   ]
  },
  {
   "cell_type": "markdown",
   "metadata": {},
   "source": [
    "### Rule of Separation:  `separation()`\n",
    "\n",
    "Separation is the desire of a mackerel to steer away from an approaching schoal mate. In Reynolds' work, static collision avoidance and dynamic velocity matching are corresponding to each other and form this behavior. Together they guarantee that the individuals of a simulated group are free to navigate without running into each other. Static collision avoidance depends on the relative position of the shoal mates and disregards their velocities. The coordinating velocity of the animal is based only on velocity and ignores position. Static collision avoidance serves to build up the minimum required separation distance, while velocity coordination generally tends to maintain it.\n",
    "\n",
    "In our case, we developed this behavior based on the basic `fear` Braitenbergs behavior. The distances to shoal mates are proximity values detected by the two proximity sensors of the robot. The velocity of a wheel will be mapped to the values of the sensor at the same side of the robot in an excitatory manner. The robot tends to steer away faster from a shoal mate when there is a higher chance of collision and slow down when reaching a safe separation distance. \n",
    "\n",
    "The weight of this behavior is modulated by the collaboration need (the closer the shoal mates, the lower the collaboration need, the **higher** the weight), and finally we applied a global discount to the whole group of schooling behaviors."
   ]
  },
  {
   "cell_type": "code",
   "execution_count": 12,
   "metadata": {},
   "outputs": [],
   "source": [
    "def separation(robot):\n",
    "    (left, right), (epuck_left, epuck_right) = robot.prox_activations(tracked_objects=[\"ePuck\"], return_epucks=True)\n",
    "    left_species, right_species = robot.sensed_epuck_attributes(epuck_left, epuck_right, \"species\", default_value =\"none\")\n",
    "    \n",
    "    # process the appropriate input\n",
    "    if left_species != \"mackerel\":\n",
    "        left = 0\n",
    "    if right_species != \"mackerel\":\n",
    "        right = 0\n",
    "    \n",
    "    # apply the appropriate sensorimotor connection\n",
    "    left_activation = left \n",
    "    right_activation = right \n",
    "    \n",
    "    # calculate the weight \n",
    "    weight = min(1., max((1 - robot.collaboration_need - robot.collaboration_discount), 0.))\n",
    "    \n",
    "    return left_activation, right_activation, weight\n"
   ]
  },
  {
   "cell_type": "markdown",
   "metadata": {},
   "source": [
    "### Rule of Cohesion: `cohesion()` \n",
    "\n",
    "This rule causes the animal to move in a direction that moves it closer to the centroid of the nearby shoal mates. In Reynolds' work, if the group is maintained stable, the distance to shoal mates is approximately the same in all directions. In this case, the shoal centering urge is small. If a mackerel is on the boundary of the shoal, its neighbors are on one side. The centroid of the local shoal mates is displaced from the center of the neighbors toward the body of the shoal. Here the centering urge is stronger.\n",
    "\n",
    "In our case, we developed this behavior partially based on the basic `love` Braitenbergs behavior. The distances to shoal mates are proximity values detected by the two proximity sensors of the robot. The velocity of a wheel will be mapped to the values of the sensor at the same side of the robot in an inhibitory manner. The robot will try to approach the shoal mates faster if it's too far away from them and slows down when it gets closer.\n",
    "\n",
    "The weight of this behavior is also modulated by the collaboration need (the closer the shoal mates, the lower the collaboration need, the **lower** the weight), and finally we applied a global discount to the whole group of schooling behaviors."
   ]
  },
  {
   "cell_type": "code",
   "execution_count": 13,
   "metadata": {},
   "outputs": [],
   "source": [
    "def cohesion(robot):\n",
    "    (left, right), (epuck_left, epuck_right) = robot.prox_activations(tracked_objects=[\"ePuck\"], return_epucks=True) \n",
    "    left_species, right_species = robot.sensed_epuck_attributes(epuck_left, epuck_right, \"species\", default_value =\"none\")\n",
    "    \n",
    "    # process the appropriate input\n",
    "    if left_species != \"mackerel\":\n",
    "        left = 0\n",
    "    if right_species != \"mackerel\":\n",
    "        right = 0\n",
    "    \n",
    "    # apply the appropriate sensorimotor connection\n",
    "    left_activation = 1 - left \n",
    "    right_activation = 1 - right \n",
    "    \n",
    "    # calculate the weight\n",
    "    weight = min(1., max((robot.collaboration_need - robot.collaboration_discount), 0.))\n",
    "    \n",
    "    return left_activation, right_activation, weight\n"
   ]
  },
  {
   "cell_type": "markdown",
   "metadata": {},
   "source": [
    "### Rule of Alignment: `alignment()`\n",
    "\n",
    "We developed this rule in order to complement the `cohesion` rule regarding the centering movement towards the centroid of local shoal mates as well as to make sure all the members will have the tendency to navigate in the average heading of the shoal. \n",
    "\n",
    "In previous works, this rule is usually calculated based on the global orientation and position of the group as some sort of vectors. This requires the agent's understanding of the global state of the scene, which goes beyond the scope of local sensing and reactive behaviors. In our case, we came up with a solution of calculating the moving direction of a neighbor by comparing the immediate proximity value and the previous proximity value. The mackerel who goes in the opposite direction with the other two mates will be the one who needs to change its direction and follow the majority. We also allowed this rule to have the highest weight among the schooling behaviors, and finally, we applied the global schooling discount.\n",
    "\n",
    "We observe that this behavior indeed helps the member steering towards the center point of the local mates and moving towards the average heading of them. But it cannot ensure that all the members will move in the same direction all the time (sometimes they will)."
   ]
  },
  {
   "cell_type": "code",
   "execution_count": 14,
   "metadata": {},
   "outputs": [],
   "source": [
    "def alignment(robot):\n",
    "    (left, right), (epuck_left, epuck_right) = robot.prox_activations(tracked_objects=[\"ePuck\"], return_epucks=True)\n",
    "    left_species, right_species = robot.sensed_epuck_attributes(epuck_left, epuck_right, \"species\", default_value =\"none\")\n",
    "    \n",
    "    # process the appropriate input\n",
    "    if left_species != \"mackerel\":\n",
    "        left = 0\n",
    "    if right_species != \"mackerel\":\n",
    "        right = 0\n",
    "    \n",
    "    # save the previous readings\n",
    "    prev_left = left\n",
    "    prev_right = right\n",
    "    \n",
    "    # get new readings\n",
    "    (left, right), (epuck_left, epuck_right) = robot.prox_activations(tracked_objects=[\"ePuck\"], return_epucks=True)\n",
    "    left_species, right_species = robot.sensed_epuck_attributes(epuck_left, epuck_right, \"species\", default_value =\"none\")\n",
    "    \n",
    "    if left_species != \"mackerel\":\n",
    "        left = 0\n",
    "    if right_species != \"mackerel\":\n",
    "        right = 0\n",
    "    \n",
    "    # calculate the weight based on the comparision of readings \n",
    "    weight = 0\n",
    "    if prev_left < left and prev_right < right: # both other shoal mates are approaching the robot\n",
    "        # switch on the behavior\n",
    "        weight = 1 - robot.collaboration_discount # always has highest weight among schooling behaviors when being switched on\n",
    "    \n",
    "    # rotate to change direction if both other shoal mates are going in the opposite direction\n",
    "    left_activation = 0\n",
    "    right_activation = 1\n",
    "    \n",
    "    return left_activation, right_activation, weight\n"
   ]
  },
  {
   "cell_type": "markdown",
   "metadata": {},
   "source": [
    "We also notice that an epuck only has 2 sensors in front of it, which may cause it unable to detect mates out of the local sight. Other mates will tend to ignore the lost one. The lost animal needs to look for the group by rotating itself until the schoal mates are within sight."
   ]
  },
  {
   "cell_type": "code",
   "execution_count": 15,
   "metadata": {},
   "outputs": [],
   "source": [
    "def mate_finding(robot):\n",
    "    (left, right), (epuck_left, epuck_right) = robot.prox_activations(tracked_objects=[\"ePuck\"], return_epucks=True)\n",
    "    left_species, right_species = robot.sensed_epuck_attributes(epuck_left, epuck_right, \"species\", default_value =\"none\")\n",
    "    \n",
    "    # process the appropriate input\n",
    "    if left_species != \"mackerel\":\n",
    "        left = 0\n",
    "    if right_species != \"mackerel\":\n",
    "        right = 0\n",
    "        \n",
    "    # calculate the weight based on the distance of shoal mates \n",
    "    weight = 0\n",
    "    if left == 0 or right == 0: # losing sight of one of the shoal mates\n",
    "        # switch on the behavior\n",
    "        weight = 1 - robot.collaboration_discount # always has highest weight among schooling behaviors when being switched on\n",
    "    \n",
    "    # rotate until the shoal mates are within sight\n",
    "    left_activation = 0\n",
    "    right_activation = 1\n",
    "        \n",
    "    return left_activation, right_activation, weight\n"
   ]
  },
  {
   "cell_type": "markdown",
   "metadata": {},
   "source": [
    "The combination of this `mate_finding` behavior and the `alignment` behavior can keep the agents together, eventually forming a triangular group. The emergent triangular formation is an interesting outcome of our solution since it expands and contracts as the cohesion and separation change in strength. "
   ]
  },
  {
   "cell_type": "markdown",
   "metadata": {},
   "source": [
    "![title](./scene-school-1.png)"
   ]
  },
  {
   "cell_type": "markdown",
   "metadata": {},
   "source": [
    "*The 3 mackerels demonstrating schooling behavior, eventually form a triangular group.*"
   ]
  },
  {
   "cell_type": "markdown",
   "metadata": {},
   "source": [
    "## 5 - Environmental dynamics"
   ]
  },
  {
   "cell_type": "markdown",
   "metadata": {},
   "source": [
    "Now it's time to regulate multiple behaviors based on the interaction of the different internal drives and external stimuli."
   ]
  },
  {
   "cell_type": "markdown",
   "metadata": {},
   "source": [
    "![title](./scene-2.png)"
   ]
  },
  {
   "cell_type": "markdown",
   "metadata": {},
   "source": [
    "*Schooling in the presence of spheres and predator.*"
   ]
  },
  {
   "cell_type": "markdown",
   "metadata": {},
   "source": [
    "### Avoiding environmental obstacles: `obstacle_avoidance()` \n",
    "\n",
    "Real flocks and schools sometimes split apart to go around an obstacle. We developed this behavior based on the basic `shy` Braitenbergs behavior. The distances to objects (corals, walls, pillars, etc. ) are proximity values detected by the two proximity sensors of the robot. A wheel will be cross-wired to the sensor at the opposite side of the robot in an inhibitory manner. We allowed this rule to have the highest weight among all behaviors.\n"
   ]
  },
  {
   "cell_type": "code",
   "execution_count": 16,
   "metadata": {},
   "outputs": [],
   "source": [
    "# for both prey and predator\n",
    "\n",
    "def obstacle_avoidance(robot):\n",
    "    left, right = robot.prox_activations(tracked_objects=[\"20cm\", \"Coral\", \"Cup\"]) \n",
    "    left_activation = 1 - right\n",
    "    right_activation = 1 - left \n",
    "    return left_activation, right_activation\n"
   ]
  },
  {
   "cell_type": "markdown",
   "metadata": {},
   "source": [
    "### Anti-predation: `escape()` \n",
    "\n",
    "We developed this behavior based on the basic `fear` Braitenbergs behavior. The weight of this behavior is modulated by the security need (the closer the predator, the higher the security need, the **higher** the weight), and finally, we applied a global anti-predation discount. The mackerels will flee while trying to stay within-group or split apart and then reunite based on whether which need is more intense at the moment: security or collaboration."
   ]
  },
  {
   "cell_type": "code",
   "execution_count": 17,
   "metadata": {},
   "outputs": [],
   "source": [
    "def escape(robot):\n",
    "    (left, right), (epuck_left, epuck_right) = robot.prox_activations(tracked_objects=[\"ePuck\"], return_epucks=True)\n",
    "    left_species, right_species = robot.sensed_epuck_attributes(epuck_left, epuck_right, \"species\", default_value =\"none\")\n",
    "    \n",
    "    # process the appropriate input\n",
    "    if left_species != \"shark\":\n",
    "        left = 0\n",
    "    if right_species != \"shark\":\n",
    "        right = 0\n",
    "    \n",
    "    # apply the appropriate sensorimotor connection\n",
    "    left_activation = left \n",
    "    right_activation = right \n",
    "    \n",
    "    # calculate the weight \n",
    "    weight = min(1., max((robot.security_need - robot.security_discount), 0.))\n",
    "    \n",
    "    return left_activation, right_activation, weight\n"
   ]
  },
  {
   "cell_type": "markdown",
   "metadata": {},
   "source": [
    "![title](./scene-pred-3.png)"
   ]
  },
  {
   "cell_type": "markdown",
   "metadata": {},
   "source": [
    "*Each mackerel try to steer away from the predator for its own sake and eventually split apart.*"
   ]
  },
  {
   "cell_type": "markdown",
   "metadata": {},
   "source": [
    "![title](./scene-school-2.png)"
   ]
  },
  {
   "cell_type": "markdown",
   "metadata": {},
   "source": [
    "*They perform grouping again when the predator is out of sight.*"
   ]
  },
  {
   "cell_type": "markdown",
   "metadata": {},
   "source": [
    "### Foraging: `sphere_catching()`, `sphere_ignoring()` and `prey_hunting()` \n",
    "\n",
    "The foraging behaviors depend on the animal's hunger (energy level). The weight of this behavior is modulated by the energy level (the lower the energy level, the higher the foraging need, the **higher** the weight). \n",
    "\n",
    "When the animal is full, it tends to ignore and steer away from spheres. The weight of this behavior is also modulated by the energy level (the lower the energy level, the higher the foraging need, the **lower** the weight). \n",
    "\n",
    "And finally, we applied a global discount to all foraging behaviors.\n",
    "\n",
    "The predator is allowed to catch spheres too in order to increase its energy level and survive through the whole simulation."
   ]
  },
  {
   "cell_type": "code",
   "execution_count": 18,
   "metadata": {},
   "outputs": [],
   "source": [
    "def sphere_catching(robot):\n",
    "    left, right = robot.prox_activations(tracked_objects=[\"Sphere\"])\n",
    "    \n",
    "    left_activation = right\n",
    "    right_activation = left\n",
    "    \n",
    "    weight = 1 - robot.energy_level\n",
    "    \n",
    "    # apply foraging discount in the case of mackerel\n",
    "    if robot.species == \"mackerel\":\n",
    "        weight -= robot.foraging_discount\n",
    "        \n",
    "    return left_activation, right_activation, min(1., max(weight, 0.))\n",
    "\n",
    "def sphere_ignoring(robot):\n",
    "    left, right = robot.prox_activations(tracked_objects=[\"Sphere\"])\n",
    "    \n",
    "    left_activation = left\n",
    "    right_activation = right\n",
    "    \n",
    "    weight = robot.energy_level\n",
    "    \n",
    "    # apply foraging discount in the case of mackerel\n",
    "    if robot.species == \"mackerel\":\n",
    "        weight -= robot.foraging_discount\n",
    "        \n",
    "    return left_activation, right_activation, min(1., max(weight, 0.))\n"
   ]
  },
  {
   "cell_type": "markdown",
   "metadata": {},
   "source": [
    "![title](./scene-forage-1.png)"
   ]
  },
  {
   "cell_type": "markdown",
   "metadata": {},
   "source": [
    "*The mackerels try to catch detected food but still spend efforts in staying within group.*"
   ]
  },
  {
   "cell_type": "markdown",
   "metadata": {},
   "source": [
    "![title](./scene-forage-2.png)"
   ]
  },
  {
   "cell_type": "markdown",
   "metadata": {},
   "source": [
    "*They become more aggressive towards food over time and split apart to forage. They even compete for spheres.*"
   ]
  },
  {
   "cell_type": "markdown",
   "metadata": {},
   "source": [
    "In nature, the predator also regulates its hunting behavior by the number of prey in a group: it will target the lonely fish rather than a collaborative school. We would like to imperfectly demonstrate this principle in our project, with the weight of hunting behavior calculated base on the energy level as well as the risk the predator has to tolerate while hunting multiple preys. Another interesting observation is that when two preys have equivalent distances to the predator, the predator will move forward in between them, very much reflecting the anti-predation benefit of schooling.\n",
    "\n",
    "However, there is a limitation here. The epuck can only detect a maximum number of two objects, and it also cannot tell whether the two proximity sensors are sensing the same mackerel or not. Thus, in the case of a perpendicular attack (both sensors detecting the same mackerel), the predator will apply a risk when it shouldn't. We didn't plan to go further by allowing the predator to check the `id` or `position` of the prey to know, so we keep it as is for now."
   ]
  },
  {
   "cell_type": "code",
   "execution_count": 19,
   "metadata": {},
   "outputs": [],
   "source": [
    "def prey_hunting(robot):\n",
    "    (left, right), (epuck_left, epuck_right) = robot.prox_activations(tracked_objects=[\"ePuck\"], return_epucks=True)\n",
    "    left_species, right_species = robot.sensed_epuck_attributes(epuck_left, epuck_right, \"species\", default_value =\"none\")\n",
    "    \n",
    "    # process the appropriate input and detect the number of preys\n",
    "    prey_detected = 0\n",
    "    if left_species == \"mackerel\":\n",
    "        prey_detected += 1\n",
    "    else:\n",
    "        left = 0\n",
    "    if right_species == \"mackerel\":\n",
    "        prey_detected += 1\n",
    "    else:\n",
    "        right = 0\n",
    "    \n",
    "    # apply the appropriate sensorimotor connection\n",
    "    left_activation = right \n",
    "    right_activation = left  \n",
    "    \n",
    "    # calculate the weight, taking into account the risk of hunting multiple preys\n",
    "    risk = 0.2 if prey_detected > 1 else 0\n",
    "    weight = min(1., max((1 - robot.energy_level - risk), 0.))\n",
    "    \n",
    "    return left_activation, right_activation, weight\n"
   ]
  },
  {
   "cell_type": "markdown",
   "metadata": {},
   "source": [
    "![title](./scene-pred-1.png)"
   ]
  },
  {
   "cell_type": "markdown",
   "metadata": {},
   "source": [
    "*The lonely mackerel is likely to be targeted by the predator.*"
   ]
  },
  {
   "cell_type": "markdown",
   "metadata": {},
   "source": [
    "![title](./scene-pred-2.png)"
   ]
  },
  {
   "cell_type": "markdown",
   "metadata": {},
   "source": [
    "*Gotcha!*"
   ]
  },
  {
   "cell_type": "markdown",
   "metadata": {},
   "source": [
    "## 6 - Collect data for plotting"
   ]
  },
  {
   "cell_type": "code",
   "execution_count": 20,
   "metadata": {},
   "outputs": [],
   "source": [
    "def robot_log(robot):\n",
    "    robot.add_log(\"foraging\", 1 - robot.energy_level)\n",
    "    robot.add_log(\"position\", robot.position())\n",
    "    if robot.species == \"mackerel\":\n",
    "        robot.add_log(\"collaboration\", robot.collaboration_need)\n",
    "        robot.add_log(\"security\", robot.security_need)\n",
    "        "
   ]
  },
  {
   "cell_type": "markdown",
   "metadata": {},
   "source": [
    "# IV - Running simulation"
   ]
  },
  {
   "cell_type": "markdown",
   "metadata": {},
   "source": [
    "## 1 - Attach and start all routines and behaviors"
   ]
  },
  {
   "cell_type": "code",
   "execution_count": 21,
   "metadata": {},
   "outputs": [
    {
     "name": "stdout",
     "output_type": "stream",
     "text": [
      "Routine robot_log started\n",
      "Routine foraging_drive started\n",
      "Routine schooling_drive started\n",
      "Routine security_drive started\n",
      "Routine robot_log started\n",
      "Routine foraging_drive started\n",
      "Routine schooling_drive started\n",
      "Routine security_drive started\n",
      "Routine robot_log started\n",
      "Routine foraging_drive started\n",
      "Routine schooling_drive started\n",
      "Routine security_drive started\n",
      "Routine robot_log started\n",
      "Routine foraging_drive started\n"
     ]
    }
   ],
   "source": [
    "for e in simulator.robots:\n",
    "    e.attach_behavior(sphere_catching, freq=10)\n",
    "    e.attach_behavior(sphere_ignoring, freq=10)\n",
    "    e.attach_behavior(obstacle_avoidance, freq=10)\n",
    "    e.attach_routine(foraging_drive, freq=1)\n",
    "    e.attach_routine(robot_log, freq=1)\n",
    "    e.start_routine(robot_log)\n",
    "    e.start_routine(foraging_drive)\n",
    "    \n",
    "    if e.species == \"mackerel\":\n",
    "        \n",
    "        e.attach_behavior(obstacle_avoidance, freq=10)\n",
    "        \n",
    "        e.attach_routine(schooling_drive, freq=1)\n",
    "        e.attach_routine(security_drive, freq=1)\n",
    "        e.attach_behavior(cohesion, freq=10)\n",
    "        e.attach_behavior(separation, freq=10)\n",
    "        e.attach_behavior(alignment, freq=10)\n",
    "        e.attach_behavior(mate_finding, freq=10)\n",
    "        e.attach_behavior(escape, freq=10)\n",
    "        e.start_routine(schooling_drive)\n",
    "        e.start_routine(security_drive)\n",
    "    \n",
    "    if e.species == \"shark\":\n",
    "        e.attach_behavior(prey_hunting, freq=10)"
   ]
  },
  {
   "cell_type": "code",
   "execution_count": 22,
   "metadata": {},
   "outputs": [
    {
     "name": "stdout",
     "output_type": "stream",
     "text": [
      "Behavior sphere_catching started\n",
      "Behavior sphere_ignoring started\n",
      "Behavior obstacle_avoidance started\n",
      "Behavior cohesion started\n",
      "Behavior separation started\n",
      "Behavior alignment started\n",
      "Behavior mate_finding started\n",
      "Behavior escape started\n",
      "Behavior sphere_catching started\n",
      "Behavior sphere_ignoring started\n",
      "Behavior obstacle_avoidance started\n",
      "Behavior cohesion started\n",
      "Behavior separation started\n",
      "Behavior alignment started\n",
      "Behavior mate_finding started\n",
      "Behavior escape started\n",
      "Behavior sphere_catching started\n",
      "Behavior sphere_ignoring started\n",
      "Behavior obstacle_avoidance started\n",
      "Behavior cohesion started\n",
      "Behavior separation started\n",
      "Behavior alignment started\n",
      "Behavior mate_finding started\n",
      "Behavior escape started\n",
      "Behavior sphere_catching started\n",
      "Behavior sphere_ignoring started\n",
      "Behavior obstacle_avoidance started\n",
      "Behavior prey_hunting started\n"
     ]
    }
   ],
   "source": [
    "for e in simulator.robots: \n",
    "    e.start_all_behaviors()\n",
    "    "
   ]
  },
  {
   "cell_type": "markdown",
   "metadata": {},
   "source": [
    "## 2 - Real-time sphere apparition"
   ]
  },
  {
   "cell_type": "code",
   "execution_count": 23,
   "metadata": {},
   "outputs": [
    {
     "name": "stdout",
     "output_type": "stream",
     "text": [
      "Routine sphere_apparition started\n",
      "Routine eating started\n"
     ]
    }
   ],
   "source": [
    "simulator.start_sphere_apparition(period=5)\n"
   ]
  },
  {
   "cell_type": "code",
   "execution_count": 23,
   "metadata": {},
   "outputs": [
    {
     "name": "stdout",
     "output_type": "stream",
     "text": [
      "Routine sphere_apparition stopped\n",
      "Routine eating stopped\n"
     ]
    }
   ],
   "source": [
    "simulator.stop_sphere_apparition()\n"
   ]
  },
  {
   "cell_type": "markdown",
   "metadata": {},
   "source": [
    "## 3 - Plot data"
   ]
  },
  {
   "cell_type": "markdown",
   "metadata": {},
   "source": [
    "### Movements of all robots during the simulation"
   ]
  },
  {
   "cell_type": "markdown",
   "metadata": {},
   "source": [
    "We plotted the position (X,Y) of the robots to keep track of their movements during the simulation. \n",
    "\n",
    "As can be observed from the plot, the red color represents the predator (shark) and the others are preys (mackerels). Following the schooling behaviors, preys gather together in the beginning while there is no threat caused by the predator. Later, when the shark approaches, the need for security increases and the preys start to avoid the shark, thus, leading to a split amongst them. In this simulation, the mackerel 3 is separated from the shoal mates and in the end is attacked by the shark (at approximately- Position X: 0.6, Position Y: -0.4)."
   ]
  },
  {
   "cell_type": "code",
   "execution_count": 30,
   "metadata": {
    "scrolled": true
   },
   "outputs": [
    {
     "name": "stdout",
     "output_type": "stream",
     "text": [
      "Populating the interactive namespace from numpy and matplotlib\n"
     ]
    },
    {
     "data": {
      "text/plain": [
       "Text(0, 0.5, 'Position Y')"
      ]
     },
     "execution_count": 30,
     "metadata": {},
     "output_type": "execute_result"
    },
    {
     "data": {
      "image/png": "[encoded data removed]",
      "text/plain": [
       "<Figure size 432x288 with 1 Axes>"
      ]
     },
     "metadata": {
      "needs_background": "light"
     },
     "output_type": "display_data"
    }
   ],
   "source": [
    "%pylab inline\n",
    "import numpy as np\n",
    "\n",
    "paths = [np.array(e.get_log('position')) for e in simulator.robots]\n",
    "\n",
    "for path in paths:\n",
    "    plot(path[:, 0], path[:, 1])\n",
    "legend([\"Mackerel 1\", \"Mackerel 2\", \"Mackerel 3\", \"Shark\"])\n",
    "    \n",
    "xlabel(\"Position X\")\n",
    "ylabel(\"Position Y\")"
   ]
  },
  {
   "cell_type": "markdown",
   "metadata": {},
   "source": [
    "### Intensities of multiple needs against time"
   ]
  },
  {
   "cell_type": "markdown",
   "metadata": {},
   "source": [
    "As explained above, in this project we prioritize schooling over foraging and anti-predation over schooling. We did some plots that are representative of the trade-offs between multiple needs for each of the three mackerels. The plots explain the changing priority with respect to the internal drives of the agents and increment in time. Therefore, in the beginning, the need to stay together (schooling behaviors) is seen. Over time, consuming food to gain energy becomes prior. The nature of security is fluctuating because it is dependent on the predator’s behavior. "
   ]
  },
  {
   "cell_type": "markdown",
   "metadata": {},
   "source": [
    "#### Mackerel 1"
   ]
  },
  {
   "cell_type": "code",
   "execution_count": 26,
   "metadata": {},
   "outputs": [
    {
     "name": "stdout",
     "output_type": "stream",
     "text": [
      "Populating the interactive namespace from numpy and matplotlib\n"
     ]
    },
    {
     "data": {
      "text/plain": [
       "Text(0, 0.5, 'Need')"
      ]
     },
     "execution_count": 26,
     "metadata": {},
     "output_type": "execute_result"
    },
    {
     "data": {
      "image/png": "[encoded data removed]",
      "text/plain": [
       "<Figure size 432x288 with 1 Axes>"
      ]
     },
     "metadata": {
      "needs_background": "light"
     },
     "output_type": "display_data"
    }
   ],
   "source": [
    "plot(prey1.get_log(\"security\"))\n",
    "plot(prey1.get_log(\"collaboration\"))\n",
    "plot(prey1.get_log(\"foraging\"))\n",
    "legend([\"Security\", \"Collaboration\", \"Foraging\"])\n",
    "\n",
    "xlabel(\"Time\")\n",
    "ylabel(\"Need\")"
   ]
  },
  {
   "cell_type": "markdown",
   "metadata": {},
   "source": [
    "#### Mackerel 2"
   ]
  },
  {
   "cell_type": "code",
   "execution_count": 27,
   "metadata": {
    "scrolled": true
   },
   "outputs": [
    {
     "data": {
      "text/plain": [
       "Text(0, 0.5, 'Need')"
      ]
     },
     "execution_count": 27,
     "metadata": {},
     "output_type": "execute_result"
    },
    {
     "data": {
      "image/png": "[encoded data removed]",
      "text/plain": [
       "<Figure size 432x288 with 1 Axes>"
      ]
     },
     "metadata": {
      "needs_background": "light"
     },
     "output_type": "display_data"
    }
   ],
   "source": [
    "plot(prey2.get_log(\"security\"))\n",
    "plot(prey2.get_log(\"collaboration\"))\n",
    "plot(prey2.get_log(\"foraging\"))\n",
    "legend([\"Security\", \"Collaboration\", \"Foraging\"])\n",
    "\n",
    "xlabel(\"Time\")\n",
    "ylabel(\"Need\")"
   ]
  },
  {
   "cell_type": "markdown",
   "metadata": {},
   "source": [
    "#### Mackerel 3"
   ]
  },
  {
   "cell_type": "code",
   "execution_count": 28,
   "metadata": {},
   "outputs": [
    {
     "data": {
      "text/plain": [
       "Text(0, 0.5, 'Need')"
      ]
     },
     "execution_count": 28,
     "metadata": {},
     "output_type": "execute_result"
    },
    {
     "data": {
      "image/png": "[encoded data removed]",
      "text/plain": [
       "<Figure size 432x288 with 1 Axes>"
      ]
     },
     "metadata": {
      "needs_background": "light"
     },
     "output_type": "display_data"
    }
   ],
   "source": [
    "plot(prey3.get_log(\"security\"))\n",
    "plot(prey3.get_log(\"collaboration\"))\n",
    "plot(prey3.get_log(\"foraging\"))\n",
    "legend([\"Security\", \"Collaboration\", \"Foraging\"])\n",
    "\n",
    "xlabel(\"Time\")\n",
    "ylabel(\"Need\")"
   ]
  },
  {
   "cell_type": "markdown",
   "metadata": {},
   "source": [
    "## 3 - Close session"
   ]
  },
  {
   "cell_type": "code",
   "execution_count": null,
   "metadata": {},
   "outputs": [],
   "source": [
    "close_session(simulator)"
   ]
  },
  {
   "cell_type": "markdown",
   "metadata": {},
   "source": [
    "# V - Results and discussions"
   ]
  },
  {
   "cell_type": "markdown",
   "metadata": {},
   "source": [
    "## 1 - Demo"
   ]
  },
  {
   "cell_type": "markdown",
   "metadata": {},
   "source": [
    "In summary, we successfully generate a formation of a triangular shoal that can serve as a proof of concept for implementing grouping behaviors without requiring the agents to perform any sort of communication or global perception. We also succeed in demonstrating some behavioral regulations and emergent dynamics that appear from the interaction of the different internal drives and external stimuli.\n",
    "\n",
    "Click the below links to watch some recordings of the simulations:\n",
    "#### [Schooling behaviors - Reynold rules without spheres and predator](https://www.youtube.com/watch?v=y85Nv1qDJ_4)\n",
    "#### [Schooling behaviors - In the presence of spheres and predator 1](https://www.youtube.com/watch?v=VG6KSYwlaGw)\n",
    "#### [Schooling behaviors - In the presence of spheres and predator 2](https://www.youtube.com/watch?v=Yv4_laPBaNY)\n"
   ]
  },
  {
   "cell_type": "markdown",
   "metadata": {},
   "source": [
    "## 2 - Limitation "
   ]
  },
  {
   "cell_type": "markdown",
   "metadata": {},
   "source": [
    "- **Low polarity:** The Reynolds rules were not precisely replicated in our project. Our solution can ensure a good density of the school, but not a high polarity. The mackerels didn't perform perfect schooling movements of constantly heading towards the same direction. Given the constraints of local sensing and reactive behaviors, we should research further to come up with a better alignment rule, probably with a refuge/target destination or a leader.\n",
    "\n",
    "- **Lack of prey identity:** Regarding the hunting behavior of the shark, the epuck can only detect a maximum number of two objects, and it also cannot tell whether the two proximity sensors are sensing the same individual prey or not. This lack of object identity is at the same time a limitation and an opportunity for future development. We can further research to come up with a future solution that allows the predator to identify moving objects, store their locations, and calculate the density of the school. "
   ]
  },
  {
   "cell_type": "markdown",
   "metadata": {},
   "source": [
    "## 3 - Future development"
   ]
  },
  {
   "cell_type": "markdown",
   "metadata": {},
   "source": [
    "Some features we couldn't implement within the scope of this project since they can make the project over complicated and the trade-offs between behaviors can become hardly observable:\n",
    "- **Mix-species shooling:** Taking advantage of various sensorimotor abilities of multiple species, as well as demonstrating the different ranking systems of different species. In this case, the flock does not consist of the same species but of several species that gain a benefit from each other. These associations would be characterized by a few sit-and-wait species that act as guardians and other species that actively search for food sources that are difficult to detect. Within the current scene, this idea can be done but might became a bit hard to observe, so we left it like this for now. \n",
    "- **Fight-or-flight response to predators:** We would like to demonstrate a richer anti-predation behavior repertoire. Fleeing behavior can be triggered by reducing the distance between a member of a flock and a predator if it is too far away from its school. Fighting behavior, on the other hand, is triggered when the predator's distance is too short to flee. Within the current scene, this idea became a bit hard to observe, so we left it like this for now.\n",
    "- **Migration:** If time permits, we can make the school going towards a refuge or a target destination with richer food resources.\n",
    "\n",
    "If we want the agents to have cognitive interactions with each other and fulfill several needs at the group level, we might need a more efficient simulation setup and a model that can account for how low-level dynamic processes (i.e what we observed here) interact with high-level strategic processes (e.g. memory and learning, prediction of environmental perturbations and adaption, goals and planning, send and handle notifications to get information from shoal mates, etc.). "
   ]
  },
  {
   "cell_type": "code",
   "execution_count": null,
   "metadata": {},
   "outputs": [],
   "source": []
  }
 ],
 "metadata": {
  "kernelspec": {
   "display_name": "Python 3",
   "language": "python",
   "name": "python3"
  },
  "language_info": {
   "codemirror_mode": {
    "name": "ipython",
    "version": 3
   },
   "file_extension": ".py",
   "mimetype": "text/x-python",
   "name": "python",
   "nbconvert_exporter": "python",
   "pygments_lexer": "ipython3",
   "version": "3.6.1"
  }
 },
 "nbformat": 4,
 "nbformat_minor": 1
}
